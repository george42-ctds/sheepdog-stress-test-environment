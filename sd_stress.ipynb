{
 "cells": [
  {
   "cell_type": "code",
   "execution_count": 1,
   "metadata": {},
   "outputs": [],
   "source": [
    "\n",
    "#Install required libraries\n",
    "import pandas as pd\n",
    "from gen3.submission import Gen3Submission\n",
    "from gen3.auth import Gen3Auth\n",
    "from gen3.query import Gen3Query"
   ]
  },
  {
   "cell_type": "code",
   "execution_count": 2,
   "metadata": {},
   "outputs": [],
   "source": [
    "### download and import some custom Python scripts from https://github.com/cgmeyer/gen3sdk-python\n",
    "# import os\n",
    "# os.system(\"wget https://raw.githubusercontent.com/cgmeyer/gen3sdk-python/master/expansion/expansion.py\")\n"
   ]
  },
  {
   "cell_type": "code",
   "execution_count": 3,
   "metadata": {},
   "outputs": [],
   "source": [
    "from stress_testing.expansion import Gen3Expansion"
   ]
  },
  {
   "cell_type": "code",
   "execution_count": 4,
   "metadata": {},
   "outputs": [],
   "source": [
    "# Initiate instances of the Gen3 SDK Classes using credentials file downloaded from https://staging.midrc.org/identity\n",
    "# You can view the SDK code/functions in GitHub: https://github.com/uc-cdis/gen3sdk-python\n",
    "env_name = 'my_env_name'\n",
    "api = f'https://{env_name}.planx-pla.net/' #'https://qa-midrc.planx-pla.net/'\n",
    "cred = f'{env_name}_api_key.json' #'midrc_api_key.json'\n",
    "\n"
   ]
  },
  {
   "cell_type": "code",
   "execution_count": 5,
   "metadata": {},
   "outputs": [
    {
     "name": "stdout",
     "output_type": "stream",
     "text": [
      "Getting all project_ids you have access to in https://georget.planx-pla.net/\n",
      "['DEV-JianProjectDev', 'DEV-project1', 'DEV-test', 'jnkns-jenkins', 'jnkns-jenkins3', 'prog1-proj1']\n"
     ]
    },
    {
     "data": {
      "text/plain": [
       "['DEV-JianProjectDev',\n",
       " 'DEV-project1',\n",
       " 'DEV-test',\n",
       " 'jnkns-jenkins',\n",
       " 'jnkns-jenkins3',\n",
       " 'prog1-proj1']"
      ]
     },
     "execution_count": 5,
     "metadata": {},
     "output_type": "execute_result"
    }
   ],
   "source": [
    "\n",
    "auth = Gen3Auth(api, refresh_file=cred) # authentication class\n",
    "sub = Gen3Submission(api, auth) # submission class\n",
    "query = Gen3Query(auth) # query class\n",
    "exp = Gen3Expansion(api,auth,sub) # class with some custom scripts\n",
    "exp.get_project_ids()"
   ]
  },
  {
   "cell_type": "code",
   "execution_count": 6,
   "metadata": {},
   "outputs": [
    {
     "name": "stdout",
     "output_type": "stream",
     "text": [
      "\n",
      "Output written to file: node_tsvs/demographic_tsvs/DEV-test_demographic.tsv\n",
      "node_tsvs/demographic_tsvs/DEV-test_demographic.tsv has 22 records.\n",
      "length of all dfs: 22\n",
      "Master node TSV with 22 total records written to master_demographic.tsv.\n"
     ]
    }
   ],
   "source": [
    "project_id = 'CGCI-load_test1' if env_name == 'piotr' else 'DEV-test'\n",
    "img_stud = exp.get_node_tsvs(projects = project_id, node='demographic', overwrite=True)"
   ]
  },
  {
   "cell_type": "code",
   "execution_count": 7,
   "metadata": {},
   "outputs": [],
   "source": [
    "range_var = 4000\n",
    "#increasing the volume of the number of records by 10 fold for testing purposes\n",
    "img_stud_list = [img_stud.copy(deep=True) for i in range(range_var) ]\n",
    "for i in range(range_var):\n",
    "    img_stud_list[i][\"submitter_id\"] = img_stud['submitter_id']+\"_\"+str(i) #changing the submitter_id to make them unique\n",
    "\n",
    "img_stud = pd.concat(img_stud_list)"
   ]
  },
  {
   "cell_type": "markdown",
   "metadata": {},
   "source": [
    "type\n",
    "submitter_id\t\n",
    "datasets\n",
    "cases"
   ]
  },
  {
   "cell_type": "code",
   "execution_count": 8,
   "metadata": {},
   "outputs": [
    {
     "data": {
      "text/plain": [
       "4000"
      ]
     },
     "execution_count": 8,
     "metadata": {},
     "output_type": "execute_result"
    }
   ],
   "source": [
    "# Trim down the number of records to 4000 to save time on submission\n",
    "len(img_stud)\n",
    "img_stud = img_stud.head(4000)\n",
    "len(img_stud)"
   ]
  },
  {
   "cell_type": "code",
   "execution_count": 9,
   "metadata": {},
   "outputs": [],
   "source": [
    "# img_stud = img_stud[['type', 'submitter_id', 'cases.submitter_id']]\n",
    "\n",
    "# img_stud['datasets.submitter_id'] = 'dataset_backpedalled_usurers'\n",
    "\n",
    "img_stud.to_csv('test_img_stud.tsv', sep='\\t', index=False)\n",
    "\n"
   ]
  },
  {
   "cell_type": "code",
   "execution_count": 10,
   "metadata": {},
   "outputs": [
    {
     "name": "stdout",
     "output_type": "stream",
     "text": [
      "\n",
      "Submitting test_img_stud.tsv with 4000 records.\n",
      "Chunk 1 (chunk size: 1000, submitted: 0 of 4000)\n",
      "\t Succeeded: 1000 entities.\n",
      "Chunk 2 (chunk size: 1000, submitted: 1000 of 4000)\n",
      "\t Succeeded: 1000 entities.\n",
      "Chunk 3 (chunk size: 1000, submitted: 2000 of 4000)\n",
      "\t Succeeded: 1000 entities.\n",
      "Chunk 4 (chunk size: 1000, submitted: 3000 of 4000)\n",
      "\t Succeeded: 1000 entities.\n",
      "Chunk 5 (chunk size: 1000, submitted: 4000 of 4000)\n",
      "\tChunk Failed (status code 400): 0 entities.\n",
      "\tInvalid records in this chunk: 0\n",
      "Finished data submission.\n",
      "Successful records: 4000\n",
      "Failed invalid records: 0\n"
     ]
    }
   ],
   "source": [
    "import time\n",
    "start = time.time()\n",
    "sub_test = sub.submit_file(project_id = project_id, filename = 'test_img_stud.tsv', chunk_size=1000)\n",
    "end = time.time()\n",
    "time_taken = end - start\n"
   ]
  },
  {
   "cell_type": "code",
   "execution_count": null,
   "metadata": {},
   "outputs": [],
   "source": []
  }
 ],
 "metadata": {
  "kernelspec": {
   "display_name": "python-stress-env",
   "language": "python",
   "name": "python-stress-env"
  },
  "language_info": {
   "codemirror_mode": {
    "name": "ipython",
    "version": 3
   },
   "file_extension": ".py",
   "mimetype": "text/x-python",
   "name": "python",
   "nbconvert_exporter": "python",
   "pygments_lexer": "ipython3",
   "version": "3.9.10"
  }
 },
 "nbformat": 4,
 "nbformat_minor": 4
}
